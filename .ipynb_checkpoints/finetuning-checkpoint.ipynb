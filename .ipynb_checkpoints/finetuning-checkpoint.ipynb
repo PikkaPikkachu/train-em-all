{
 "cells": [
  {
   "cell_type": "code",
   "execution_count": 0,
   "metadata": {
    "colab": {
     "base_uri": "https://localhost:8080/",
     "height": 51
    },
    "colab_type": "code",
    "collapsed": false,
    "deletable": true,
    "editable": true,
    "id": "6YTGnpHc4sq9",
    "outputId": "af0f287b-2ced-4ecf-f107-7f3d0b8a0fa6"
   },
   "outputs": [
    {
     "name": "stdout",
     "output_type": "stream",
     "text": [
      "E: Package 'python-software-properties' has no installation candidate\n",
      "··········\n"
     ]
    }
   ],
   "source": []
  },
  {
   "cell_type": "code",
   "execution_count": 0,
   "metadata": {
    "colab": {
     "base_uri": "https://localhost:8080/",
     "height": 34
    },
    "colab_type": "code",
    "collapsed": false,
    "deletable": true,
    "editable": true,
    "id": "9lqDeGiJ55wv",
    "outputId": "6459c196-a3b5-44bf-804c-b98d4650f556"
   },
   "outputs": [
    {
     "name": "stdout",
     "output_type": "stream",
     "text": [
      "Drive already mounted at /gdrive; to attempt to forcibly remount, call drive.mount(\"/gdrive\", force_remount=True).\n"
     ]
    }
   ],
   "source": [
    "from google.colab import drive\n",
    "drive.mount('/gdrive')"
   ]
  },
  {
   "cell_type": "code",
   "execution_count": 0,
   "metadata": {
    "colab": {},
    "colab_type": "code",
    "collapsed": true,
    "deletable": true,
    "editable": true,
    "id": "ERFc1mMC55vM"
   },
   "outputs": [],
   "source": [
    "import pandas as pd\n",
    "import numpy as np\n",
    "import os\n",
    "import tensorflow as tf\n",
    "import keras\n",
    "import matplotlib.pyplot as plt\n",
    "from keras.layers import Dense,GlobalAveragePooling2D\n",
    "from keras.applications.resnet50 import ResNet50\n",
    "from keras.applications.mobilenet import MobileNet\n",
    "from keras.preprocessing import image\n",
    "from keras.applications.mobilenet import preprocess_input\n",
    "from keras.preprocessing.image import ImageDataGenerator\n",
    "#from keras.applications.resnet50 import preprocess_input, decode_predictions\n",
    "from keras.models import Model\n",
    "from keras import layers\n",
    "from keras.optimizers import Adam\n",
    "from PIL import ImageFile\n",
    "ImageFile.LOAD_TRUNCATED_IMAGES = True\n",
    "from google.colab import files"
   ]
  },
  {
   "cell_type": "code",
   "execution_count": 0,
   "metadata": {
    "colab": {},
    "colab_type": "code",
    "collapsed": true,
    "deletable": true,
    "editable": true,
    "id": "U4KqWeHwGQRz"
   },
   "outputs": [],
   "source": [
    "keras.backend.clear_session()"
   ]
  },
  {
   "cell_type": "code",
   "execution_count": 0,
   "metadata": {
    "colab": {
     "base_uri": "https://localhost:8080/",
     "height": 272
    },
    "colab_type": "code",
    "collapsed": false,
    "deletable": true,
    "editable": true,
    "id": "-7kLCqws4uyC",
    "outputId": "ea22a87b-ad04-45e2-d052-52801b91f817"
   },
   "outputs": [
    {
     "name": "stdout",
     "output_type": "stream",
     "text": [
      "_________________________________________________________________\n",
      "Layer (type)                 Output Shape              Param #   \n",
      "=================================================================\n",
      "mobilenet_1.00_224 (Model)   (None, 7, 7, 1024)        3228864   \n",
      "_________________________________________________________________\n",
      "global_average_pooling2d_1 ( (None, 1024)              0         \n",
      "_________________________________________________________________\n",
      "dense_1 (Dense)              (None, 256)               262400    \n",
      "_________________________________________________________________\n",
      "dense_2 (Dense)              (None, 7)                 1799      \n",
      "=================================================================\n",
      "Total params: 3,493,063\n",
      "Trainable params: 1,314,823\n",
      "Non-trainable params: 2,178,240\n",
      "_________________________________________________________________\n"
     ]
    }
   ],
   "source": [
    "\n",
    "base_model=MobileNet(input_shape = (224,224,3),weights='imagenet',include_top=False)\n",
    "\n",
    "#x=base_model.output\n",
    "#x=GlobalAveragePooling2D()(x)\n",
    "# x=Dense(1024,activation='relu')(x) #we add dense layers so that the model can learn more complex functions and classify for better results.\n",
    "# x=Dense(1024,activation='relu')(x) #dense layer 2\n",
    "#x=Dense(512,,activation='softmax')(x) #final layer with softmax activation\n",
    "for layer in base_model.layers[:-4]:\n",
    "  layer.trainable = False\n",
    "model = keras.models.Sequential()\n",
    "model.add(base_model)\n",
    "#base_model.summary()\n",
    "model.add(layers.GlobalAveragePooling2D())\n",
    "model.add(layers.Dense(256, activation='relu'))\n",
    "#model.add(layers.Dropout(0.2))\n",
    "#model.add(layers.Dropout(0.05))\n",
    "model.add(layers.Dense(7, activation='softmax'))\n",
    "\n",
    "model.summary()"
   ]
  },
  {
   "cell_type": "code",
   "execution_count": 0,
   "metadata": {
    "colab": {
     "base_uri": "https://localhost:8080/",
     "height": 170
    },
    "colab_type": "code",
    "collapsed": false,
    "deletable": true,
    "editable": true,
    "id": "cQPqotzf7Ndj",
    "outputId": "cd3474d0-6f82-4608-dbca-e7c3e2aba030"
   },
   "outputs": [
    {
     "name": "stdout",
     "output_type": "stream",
     "text": [
      "Found 602 images belonging to 7 classes.\n",
      "Found 62 images belonging to 7 classes.\n"
     ]
    },
    {
     "data": {
      "text/plain": [
       "{'TLB': 0,\n",
       " 'aphid': 1,\n",
       " 'armyWorm': 2,\n",
       " 'commonrust': 3,\n",
       " 'cutWorm': 4,\n",
       " 'normal': 5,\n",
       " 'stalkRots': 6}"
      ]
     },
     "execution_count": 156,
     "metadata": {
      "tags": []
     },
     "output_type": "execute_result"
    }
   ],
   "source": [
    "train_datagen=ImageDataGenerator(preprocessing_function=preprocess_input,\n",
    "                                validation_split=0.1, rotation_range= 30, horizontal_flip=True)\n",
    "                                 #rotation_range=45, \n",
    "                                 #horizontal_flip=True) #included in our dependencies\n",
    "#test_datagen = ImageDataGenerator(preprocessing_function=preprocess_input)\n",
    "\n",
    "train_generator=train_datagen.flow_from_directory('../gdrive/My Drive/maize_pests',\n",
    "                                                 target_size=(224,224),\n",
    "                                                 color_mode='rgb',\n",
    "                                                 batch_size=32,\n",
    "                                                 class_mode='categorical',\n",
    "                                                 shuffle=True,\n",
    "                                                 subset='training')\n",
    "test_generator=train_datagen.flow_from_directory('../gdrive/My Drive/maize_pests',\n",
    "                                                 target_size=(224,224),\n",
    "                                                 color_mode='rgb',\n",
    "                                                 batch_size=32,\n",
    "                                                 shuffle=True,\n",
    "                                                 class_mode='categorical',\n",
    "                                                 subset='validation')\n",
    "label_map = (train_generator.class_indices)\n",
    "label_map"
   ]
  },
  {
   "cell_type": "code",
   "execution_count": 0,
   "metadata": {
    "colab": {
     "base_uri": "https://localhost:8080/",
     "height": 207
    },
    "colab_type": "code",
    "collapsed": false,
    "deletable": true,
    "editable": true,
    "id": "97DPdGuK7YMS",
    "outputId": "12b870af-95df-4c0a-b91b-c86cdb3dec5c"
   },
   "outputs": [
    {
     "name": "stdout",
     "output_type": "stream",
     "text": [
      "Epoch 1/5\n",
      "602/602 [==============================] - 391s 649ms/step - loss: 0.2693 - acc: 0.9141 - val_loss: 1.1408 - val_acc: 0.7440\n",
      "Epoch 2/5\n",
      "602/602 [==============================] - 355s 590ms/step - loss: 0.0732 - acc: 0.9632 - val_loss: 1.3141 - val_acc: 0.7373\n",
      "Epoch 3/5\n",
      "602/602 [==============================] - 356s 591ms/step - loss: 0.0633 - acc: 0.9659 - val_loss: 1.3090 - val_acc: 0.7367\n",
      "Epoch 4/5\n",
      "602/602 [==============================] - 356s 592ms/step - loss: 0.0621 - acc: 0.9654 - val_loss: 1.3727 - val_acc: 0.7419\n",
      "Epoch 5/5\n",
      "602/602 [==============================] - 356s 592ms/step - loss: 0.0607 - acc: 0.9648 - val_loss: 1.3884 - val_acc: 0.7341\n"
     ]
    }
   ],
   "source": [
    "from keras.optimizers import SGD\n",
    "epochs = 5\n",
    "learning_rate = 0.1\n",
    "decay_rate = learning_rate/ epochs\n",
    "momentum = 0.8\n",
    "sgd = SGD(lr=learning_rate, momentum=momentum, decay=decay_rate, nesterov=False)\n",
    "\n",
    "model.compile(optimizer=sgd, loss='categorical_crossentropy',metrics=['accuracy'])\n",
    "\n",
    "history = model.fit_generator(\n",
    "                    generator=train_generator,\n",
    "                    steps_per_epoch=train_generator.samples,\n",
    "                    epochs=epochs, \n",
    "                    validation_data = test_generator, \n",
    "                    validation_steps = test_generator.samples)\n",
    "\n"
   ]
  },
  {
   "cell_type": "code",
   "execution_count": 0,
   "metadata": {
    "colab": {
     "base_uri": "https://localhost:8080/",
     "height": 735
    },
    "colab_type": "code",
    "collapsed": false,
    "deletable": true,
    "editable": true,
    "id": "22oufa13Vs8U",
    "outputId": "f4e37221-6647-4971-868c-b241fa0516bd"
   },
   "outputs": [
    {
     "data": {
      "image/png": "[encoded data removed]",
      "text/plain": [
       "<Figure size 576x396 with 1 Axes>"
      ]
     },
     "metadata": {
      "tags": []
     },
     "output_type": "display_data"
    },
    {
     "data": {
      "image/png": "[encoded data removed]",
      "text/plain": [
       "<Figure size 576x396 with 1 Axes>"
      ]
     },
     "metadata": {
      "tags": []
     },
     "output_type": "display_data"
    }
   ],
   "source": [
    "#  \"Accuracy\"\n",
    "plt.plot(history.history['acc'])\n",
    "plt.plot(history.history['val_acc'])\n",
    "plt.title('model accuracy')\n",
    "plt.ylabel('accuracy')\n",
    "plt.xlabel('epoch')\n",
    "plt.legend(['train', 'validation'], loc='upper left')\n",
    "plt.show()\n",
    "# \"Loss\"\n",
    "plt.plot(history.history['loss'])\n",
    "plt.plot(history.history['val_loss'])\n",
    "plt.title('model loss')\n",
    "plt.ylabel('loss')\n",
    "plt.xlabel('epoch')\n",
    "plt.legend(['train', 'validation'], loc='upper left')\n",
    "plt.show()"
   ]
  },
  {
   "cell_type": "code",
   "execution_count": 0,
   "metadata": {
    "colab": {},
    "colab_type": "code",
    "collapsed": true,
    "deletable": true,
    "editable": true,
    "id": "JfsrTokx84QT"
   },
   "outputs": [],
   "source": [
    "\n",
    "keras_file = \"keras_model.h5\"\n",
    "model.save(keras_file)\n",
    "\n",
    "# Convert to TensorFlow Lite model.\n",
    "#onverter = tf.lite.TFLiteConverter.from_keras_model_file(keras_file)\n",
    "#lite_model = converter.convert()\n",
    "#pen(\"converted_model.tflite\", \"wb\").write(tflite_model)"
   ]
  },
  {
   "cell_type": "code",
   "execution_count": 0,
   "metadata": {
    "colab": {},
    "colab_type": "code",
    "collapsed": true,
    "deletable": true,
    "editable": true,
    "id": "XYbk1ybN9spz"
   },
   "outputs": [],
   "source": [
    "from google.colab import files"
   ]
  },
  {
   "cell_type": "code",
   "execution_count": 0,
   "metadata": {
    "colab": {},
    "colab_type": "code",
    "collapsed": true,
    "deletable": true,
    "editable": true,
    "id": "BewzfMg887Td"
   },
   "outputs": [],
   "source": [
    "files.download(keras_file)"
   ]
  },
  {
   "cell_type": "code",
   "execution_count": 0,
   "metadata": {
    "colab": {
     "base_uri": "https://localhost:8080/",
     "height": 68
    },
    "colab_type": "code",
    "collapsed": false,
    "deletable": true,
    "editable": true,
    "id": "BrxOQ4-kBKyc",
    "outputId": "bd10d548-b706-485a-b7cf-ffde46056528"
   },
   "outputs": [
    {
     "name": "stdout",
     "output_type": "stream",
     "text": [
      "INFO:tensorflow:Froze 139 variables.\n",
      "INFO:tensorflow:Converted 139 variables to const ops.\n"
     ]
    },
    {
     "data": {
      "text/plain": [
       "13854088"
      ]
     },
     "execution_count": 161,
     "metadata": {
      "tags": []
     },
     "output_type": "execute_result"
    }
   ],
   "source": [
    "# Convert to TensorFlow Lite model.\n",
    "converter = tf.lite.TFLiteConverter.from_keras_model_file(keras_file)\n",
    "lite_model = converter.convert()\n",
    "open(\"maize_diseases.tflite\", \"wb\").write(lite_model)"
   ]
  },
  {
   "cell_type": "code",
   "execution_count": 0,
   "metadata": {
    "colab": {},
    "colab_type": "code",
    "collapsed": true,
    "deletable": true,
    "editable": true,
    "id": "7qjIj91TBTzl"
   },
   "outputs": [],
   "source": [
    "files.download(\"maize_diseases.tflite\")"
   ]
  },
  {
   "cell_type": "code",
   "execution_count": 0,
   "metadata": {
    "colab": {},
    "colab_type": "code",
    "collapsed": true,
    "deletable": true,
    "editable": true,
    "id": "3riWsPeWCDST"
   },
   "outputs": [],
   "source": [
    "import numpy as np\n",
    "from keras.preprocessing import image"
   ]
  },
  {
   "cell_type": "code",
   "execution_count": 0,
   "metadata": {
    "colab": {
     "base_uri": "https://localhost:8080/",
     "height": 34
    },
    "colab_type": "code",
    "collapsed": false,
    "deletable": true,
    "editable": true,
    "id": "6Qbgom04CE0-",
    "outputId": "ce0af4bf-6011-4dcb-ddcd-e3dd901c1983"
   },
   "outputs": [
    {
     "name": "stdout",
     "output_type": "stream",
     "text": [
      "[[0.0488837  0.07440232 0.6662576  0.16236827 0.04808801]]\n"
     ]
    }
   ],
   "source": [
    "model._make_predict_function()\n",
    "graph = tf.get_default_graph()\n",
    "#graph.summary()\n",
    "with graph.as_default():\n",
    "  test_image = image.load_img('th (3).jpg', target_size=(224, 224))\n",
    "  test_image = image.img_to_array(test_image)\n",
    "  test_image = np.expand_dims(test_image, axis=0)\n",
    "  pImg = preprocess_input(test_image)\n",
    "  result = model.predict(pImg)\n",
    "  print(result)"
   ]
  },
  {
   "cell_type": "code",
   "execution_count": 0,
   "metadata": {
    "colab": {
     "base_uri": "https://localhost:8080/",
     "height": 102
    },
    "colab_type": "code",
    "collapsed": false,
    "deletable": true,
    "editable": true,
    "id": "FrVGsf7OqTv3",
    "outputId": "9410e2d7-df0f-4a6c-fa24-938e4795361c"
   },
   "outputs": [
    {
     "data": {
      "text/plain": [
       "{'Cotton Leaf Curl Virus (CLCuD) _ Yahoo India Image Search results': 0,\n",
       " 'bacterial blight disease in cotton _ Yahoo India Image Search results': 1,\n",
       " 'cotton plant': 2,\n",
       " 'grey mildew of cotton _ Google Search': 3,\n",
       " 'root rot cotton _ Yahoo India Image Search results': 4}"
      ]
     },
     "execution_count": 125,
     "metadata": {
      "tags": []
     },
     "output_type": "execute_result"
    }
   ],
   "source": []
  },
  {
   "cell_type": "code",
   "execution_count": 0,
   "metadata": {
    "colab": {
     "base_uri": "https://localhost:8080/",
     "height": 207
    },
    "colab_type": "code",
    "collapsed": false,
    "deletable": true,
    "editable": true,
    "id": "I--ppPMiIFDl",
    "outputId": "61f7fdcf-3e08-4e7e-b2a6-a26e743fcc80"
   },
   "outputs": [
    {
     "name": "stdout",
     "output_type": "stream",
     "text": [
      "Epoch 1/5\n",
      "275/275 [==============================] - 159s 579ms/step - loss: 0.0232 - acc: 0.9935 - val_loss: 0.3918 - val_acc: 0.9096\n",
      "Epoch 2/5\n",
      "275/275 [==============================] - 153s 558ms/step - loss: 0.0044 - acc: 0.9984 - val_loss: 0.6031 - val_acc: 0.8680\n",
      "Epoch 3/5\n",
      "275/275 [==============================] - 153s 556ms/step - loss: 0.0035 - acc: 0.9990 - val_loss: 0.5599 - val_acc: 0.8716\n",
      "Epoch 4/5\n",
      "275/275 [==============================] - 153s 556ms/step - loss: 0.0020 - acc: 0.9994 - val_loss: 0.5659 - val_acc: 0.8728\n",
      "Epoch 5/5\n",
      "275/275 [==============================] - 153s 558ms/step - loss: 0.0023 - acc: 0.9994 - val_loss: 0.6100 - val_acc: 0.8692\n"
     ]
    }
   ],
   "source": [
    "epochs = 5\n",
    "history = model.fit_generator(\n",
    "                    generator=train_generator,\n",
    "                    steps_per_epoch=train_generator.samples,\n",
    "                    epochs=epochs, \n",
    "                    validation_data = test_generator, \n",
    "                    validation_steps = test_generator.samples)"
   ]
  },
  {
   "cell_type": "code",
   "execution_count": 0,
   "metadata": {
    "colab": {
     "base_uri": "https://localhost:8080/",
     "height": 51
    },
    "colab_type": "code",
    "collapsed": false,
    "deletable": true,
    "editable": true,
    "id": "nGZUmUrfbdF8",
    "outputId": "b35f4d6b-5e5d-40da-af7c-4d9fdbf595da"
   },
   "outputs": [
    {
     "name": "stdout",
     "output_type": "stream",
     "text": [
      "INFO:tensorflow:Froze 139 variables.\n",
      "INFO:tensorflow:Converted 139 variables to const ops.\n"
     ]
    }
   ],
   "source": [
    "keras_file = \"cotton_disease.h5\"\n",
    "model.save(keras_file)\n",
    "from google.colab import files\n",
    "files.download(keras_file)\n",
    "\n",
    "converter = tf.lite.TFLiteConverter.from_keras_model_file(keras_file)\n",
    "lite_model = converter.convert()\n",
    "open(\"cotton_diseases.tflite\", \"wb\").write(lite_model)\n",
    "files.download(\"cotton_diseases.tflite\")"
   ]
  },
  {
   "cell_type": "code",
   "execution_count": 0,
   "metadata": {
    "colab": {},
    "colab_type": "code",
    "collapsed": true,
    "deletable": true,
    "editable": true,
    "id": "lhoSn4ZJbOCJ"
   },
   "outputs": [],
   "source": []
  }
 ],
 "metadata": {
  "accelerator": "GPU",
  "colab": {
   "collapsed_sections": [],
   "name": "finetuning.ipynb",
   "provenance": [],
   "version": "0.3.2"
  },
  "kernelspec": {
   "display_name": "Python 3",
   "language": "python",
   "name": "python3"
  },
  "language_info": {
   "codemirror_mode": {
    "name": "ipython",
    "version": 3
   },
   "file_extension": ".py",
   "mimetype": "text/x-python",
   "name": "python",
   "nbconvert_exporter": "python",
   "pygments_lexer": "ipython3",
   "version": "3.5.2"
  }
 },
 "nbformat": 4,
 "nbformat_minor": 0
}
